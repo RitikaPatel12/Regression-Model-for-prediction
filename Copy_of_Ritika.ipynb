{
  "nbformat": 4,
  "nbformat_minor": 0,
  "metadata": {
    "colab": {
      "provenance": []
    },
    "kernelspec": {
      "name": "python3",
      "display_name": "Python 3"
    },
    "language_info": {
      "name": "python"
    }
  },
  "cells": [
    {
      "cell_type": "markdown",
      "source": [],
      "metadata": {
        "id": "d3l6_rM_ESTr"
      }
    },
    {
      "cell_type": "markdown",
      "source": [],
      "metadata": {
        "id": "T5yPnUGyE3IP"
      }
    },
    {
      "cell_type": "markdown",
      "source": [
        "**MY first project of Data Science at YBI Foundation**"
      ],
      "metadata": {
        "id": "Zp90BGJlFKe4"
      }
    },
    {
      "cell_type": "markdown",
      "source": [
        "**Regression Problem**"
      ],
      "metadata": {
        "id": "SPLc-ORGFXBz"
      }
    },
    {
      "cell_type": "markdown",
      "source": [
        "Objective: To predict cement compressive strength"
      ],
      "metadata": {
        "id": "g3DUDrGMGlZd"
      }
    },
    {
      "cell_type": "code",
      "source": [
        "#Import Library\n",
        "import pandas as pd\n"
      ],
      "metadata": {
        "id": "gS81nt4mG978"
      },
      "execution_count": null,
      "outputs": []
    },
    {
      "cell_type": "code",
      "source": [
        "#import Data\n",
        "strength= pd.read_csv(\"https://github.com/ybifoundation/Dataset/raw/main/Concrete%20Compressive%20Strength.csv\")"
      ],
      "metadata": {
        "id": "G-3XrWBDHXnM"
      },
      "execution_count": null,
      "outputs": []
    },
    {
      "cell_type": "code",
      "source": [
        "#view data\n",
        "strength.head()"
      ],
      "metadata": {
        "colab": {
          "base_uri": "https://localhost:8080/",
          "height": 285
        },
        "id": "D3A9NCo4HwON",
        "outputId": "1c4ee76d-7f3f-47d3-cb5c-31b47936fdd0"
      },
      "execution_count": null,
      "outputs": [
        {
          "output_type": "execute_result",
          "data": {
            "text/plain": [
              "   Cement (kg in a m^3 mixture)  Blast Furnace Slag (kg in a m^3 mixture)  \\\n",
              "0                         540.0                                       0.0   \n",
              "1                         540.0                                       0.0   \n",
              "2                         332.5                                     142.5   \n",
              "3                         332.5                                     142.5   \n",
              "4                         198.6                                     132.4   \n",
              "\n",
              "   Fly Ash (kg in a m^3 mixture)  Water (kg in a m^3 mixture)  \\\n",
              "0                            0.0                        162.0   \n",
              "1                            0.0                        162.0   \n",
              "2                            0.0                        228.0   \n",
              "3                            0.0                        228.0   \n",
              "4                            0.0                        192.0   \n",
              "\n",
              "   Superplasticizer (kg in a m^3 mixture)  \\\n",
              "0                                     2.5   \n",
              "1                                     2.5   \n",
              "2                                     0.0   \n",
              "3                                     0.0   \n",
              "4                                     0.0   \n",
              "\n",
              "   Coarse Aggregate (kg in a m^3 mixture)  \\\n",
              "0                                  1040.0   \n",
              "1                                  1055.0   \n",
              "2                                   932.0   \n",
              "3                                   932.0   \n",
              "4                                   978.4   \n",
              "\n",
              "   Fine Aggregate (kg in a m^3 mixture)  Age (day)  \\\n",
              "0                                 676.0         28   \n",
              "1                                 676.0         28   \n",
              "2                                 594.0        270   \n",
              "3                                 594.0        365   \n",
              "4                                 825.5        360   \n",
              "\n",
              "   Concrete Compressive Strength(MPa, megapascals)   \n",
              "0                                         79.986111  \n",
              "1                                         61.887366  \n",
              "2                                         40.269535  \n",
              "3                                         41.052780  \n",
              "4                                         44.296075  "
            ],
            "text/html": [
              "\n",
              "  <div id=\"df-698ee0ca-d898-4139-8e80-da19e52f3787\">\n",
              "    <div class=\"colab-df-container\">\n",
              "      <div>\n",
              "<style scoped>\n",
              "    .dataframe tbody tr th:only-of-type {\n",
              "        vertical-align: middle;\n",
              "    }\n",
              "\n",
              "    .dataframe tbody tr th {\n",
              "        vertical-align: top;\n",
              "    }\n",
              "\n",
              "    .dataframe thead th {\n",
              "        text-align: right;\n",
              "    }\n",
              "</style>\n",
              "<table border=\"1\" class=\"dataframe\">\n",
              "  <thead>\n",
              "    <tr style=\"text-align: right;\">\n",
              "      <th></th>\n",
              "      <th>Cement (kg in a m^3 mixture)</th>\n",
              "      <th>Blast Furnace Slag (kg in a m^3 mixture)</th>\n",
              "      <th>Fly Ash (kg in a m^3 mixture)</th>\n",
              "      <th>Water (kg in a m^3 mixture)</th>\n",
              "      <th>Superplasticizer (kg in a m^3 mixture)</th>\n",
              "      <th>Coarse Aggregate (kg in a m^3 mixture)</th>\n",
              "      <th>Fine Aggregate (kg in a m^3 mixture)</th>\n",
              "      <th>Age (day)</th>\n",
              "      <th>Concrete Compressive Strength(MPa, megapascals)</th>\n",
              "    </tr>\n",
              "  </thead>\n",
              "  <tbody>\n",
              "    <tr>\n",
              "      <th>0</th>\n",
              "      <td>540.0</td>\n",
              "      <td>0.0</td>\n",
              "      <td>0.0</td>\n",
              "      <td>162.0</td>\n",
              "      <td>2.5</td>\n",
              "      <td>1040.0</td>\n",
              "      <td>676.0</td>\n",
              "      <td>28</td>\n",
              "      <td>79.986111</td>\n",
              "    </tr>\n",
              "    <tr>\n",
              "      <th>1</th>\n",
              "      <td>540.0</td>\n",
              "      <td>0.0</td>\n",
              "      <td>0.0</td>\n",
              "      <td>162.0</td>\n",
              "      <td>2.5</td>\n",
              "      <td>1055.0</td>\n",
              "      <td>676.0</td>\n",
              "      <td>28</td>\n",
              "      <td>61.887366</td>\n",
              "    </tr>\n",
              "    <tr>\n",
              "      <th>2</th>\n",
              "      <td>332.5</td>\n",
              "      <td>142.5</td>\n",
              "      <td>0.0</td>\n",
              "      <td>228.0</td>\n",
              "      <td>0.0</td>\n",
              "      <td>932.0</td>\n",
              "      <td>594.0</td>\n",
              "      <td>270</td>\n",
              "      <td>40.269535</td>\n",
              "    </tr>\n",
              "    <tr>\n",
              "      <th>3</th>\n",
              "      <td>332.5</td>\n",
              "      <td>142.5</td>\n",
              "      <td>0.0</td>\n",
              "      <td>228.0</td>\n",
              "      <td>0.0</td>\n",
              "      <td>932.0</td>\n",
              "      <td>594.0</td>\n",
              "      <td>365</td>\n",
              "      <td>41.052780</td>\n",
              "    </tr>\n",
              "    <tr>\n",
              "      <th>4</th>\n",
              "      <td>198.6</td>\n",
              "      <td>132.4</td>\n",
              "      <td>0.0</td>\n",
              "      <td>192.0</td>\n",
              "      <td>0.0</td>\n",
              "      <td>978.4</td>\n",
              "      <td>825.5</td>\n",
              "      <td>360</td>\n",
              "      <td>44.296075</td>\n",
              "    </tr>\n",
              "  </tbody>\n",
              "</table>\n",
              "</div>\n",
              "      <button class=\"colab-df-convert\" onclick=\"convertToInteractive('df-698ee0ca-d898-4139-8e80-da19e52f3787')\"\n",
              "              title=\"Convert this dataframe to an interactive table.\"\n",
              "              style=\"display:none;\">\n",
              "        \n",
              "  <svg xmlns=\"http://www.w3.org/2000/svg\" height=\"24px\"viewBox=\"0 0 24 24\"\n",
              "       width=\"24px\">\n",
              "    <path d=\"M0 0h24v24H0V0z\" fill=\"none\"/>\n",
              "    <path d=\"M18.56 5.44l.94 2.06.94-2.06 2.06-.94-2.06-.94-.94-2.06-.94 2.06-2.06.94zm-11 1L8.5 8.5l.94-2.06 2.06-.94-2.06-.94L8.5 2.5l-.94 2.06-2.06.94zm10 10l.94 2.06.94-2.06 2.06-.94-2.06-.94-.94-2.06-.94 2.06-2.06.94z\"/><path d=\"M17.41 7.96l-1.37-1.37c-.4-.4-.92-.59-1.43-.59-.52 0-1.04.2-1.43.59L10.3 9.45l-7.72 7.72c-.78.78-.78 2.05 0 2.83L4 21.41c.39.39.9.59 1.41.59.51 0 1.02-.2 1.41-.59l7.78-7.78 2.81-2.81c.8-.78.8-2.07 0-2.86zM5.41 20L4 18.59l7.72-7.72 1.47 1.35L5.41 20z\"/>\n",
              "  </svg>\n",
              "      </button>\n",
              "      \n",
              "  <style>\n",
              "    .colab-df-container {\n",
              "      display:flex;\n",
              "      flex-wrap:wrap;\n",
              "      gap: 12px;\n",
              "    }\n",
              "\n",
              "    .colab-df-convert {\n",
              "      background-color: #E8F0FE;\n",
              "      border: none;\n",
              "      border-radius: 50%;\n",
              "      cursor: pointer;\n",
              "      display: none;\n",
              "      fill: #1967D2;\n",
              "      height: 32px;\n",
              "      padding: 0 0 0 0;\n",
              "      width: 32px;\n",
              "    }\n",
              "\n",
              "    .colab-df-convert:hover {\n",
              "      background-color: #E2EBFA;\n",
              "      box-shadow: 0px 1px 2px rgba(60, 64, 67, 0.3), 0px 1px 3px 1px rgba(60, 64, 67, 0.15);\n",
              "      fill: #174EA6;\n",
              "    }\n",
              "\n",
              "    [theme=dark] .colab-df-convert {\n",
              "      background-color: #3B4455;\n",
              "      fill: #D2E3FC;\n",
              "    }\n",
              "\n",
              "    [theme=dark] .colab-df-convert:hover {\n",
              "      background-color: #434B5C;\n",
              "      box-shadow: 0px 1px 3px 1px rgba(0, 0, 0, 0.15);\n",
              "      filter: drop-shadow(0px 1px 2px rgba(0, 0, 0, 0.3));\n",
              "      fill: #FFFFFF;\n",
              "    }\n",
              "  </style>\n",
              "\n",
              "      <script>\n",
              "        const buttonEl =\n",
              "          document.querySelector('#df-698ee0ca-d898-4139-8e80-da19e52f3787 button.colab-df-convert');\n",
              "        buttonEl.style.display =\n",
              "          google.colab.kernel.accessAllowed ? 'block' : 'none';\n",
              "\n",
              "        async function convertToInteractive(key) {\n",
              "          const element = document.querySelector('#df-698ee0ca-d898-4139-8e80-da19e52f3787');\n",
              "          const dataTable =\n",
              "            await google.colab.kernel.invokeFunction('convertToInteractive',\n",
              "                                                     [key], {});\n",
              "          if (!dataTable) return;\n",
              "\n",
              "          const docLinkHtml = 'Like what you see? Visit the ' +\n",
              "            '<a target=\"_blank\" href=https://colab.research.google.com/notebooks/data_table.ipynb>data table notebook</a>'\n",
              "            + ' to learn more about interactive tables.';\n",
              "          element.innerHTML = '';\n",
              "          dataTable['output_type'] = 'display_data';\n",
              "          await google.colab.output.renderOutput(dataTable, element);\n",
              "          const docLink = document.createElement('div');\n",
              "          docLink.innerHTML = docLinkHtml;\n",
              "          element.appendChild(docLink);\n",
              "        }\n",
              "      </script>\n",
              "    </div>\n",
              "  </div>\n",
              "  "
            ]
          },
          "metadata": {},
          "execution_count": 38
        }
      ]
    },
    {
      "cell_type": "code",
      "source": [
        "#information of data\n",
        "strength.info()"
      ],
      "metadata": {
        "colab": {
          "base_uri": "https://localhost:8080/"
        },
        "id": "xE_R9wAnG5hK",
        "outputId": "60ea7d84-acec-4cb0-adfb-18739ddb7b9c"
      },
      "execution_count": null,
      "outputs": [
        {
          "output_type": "stream",
          "name": "stdout",
          "text": [
            "<class 'pandas.core.frame.DataFrame'>\n",
            "RangeIndex: 1030 entries, 0 to 1029\n",
            "Data columns (total 9 columns):\n",
            " #   Column                                            Non-Null Count  Dtype  \n",
            "---  ------                                            --------------  -----  \n",
            " 0   Cement (kg in a m^3 mixture)                      1030 non-null   float64\n",
            " 1   Blast Furnace Slag (kg in a m^3 mixture)          1030 non-null   float64\n",
            " 2   Fly Ash (kg in a m^3 mixture)                     1030 non-null   float64\n",
            " 3   Water (kg in a m^3 mixture)                       1030 non-null   float64\n",
            " 4   Superplasticizer (kg in a m^3 mixture)            1030 non-null   float64\n",
            " 5   Coarse Aggregate (kg in a m^3 mixture)            1030 non-null   float64\n",
            " 6   Fine Aggregate (kg in a m^3 mixture)              1030 non-null   float64\n",
            " 7   Age (day)                                         1030 non-null   int64  \n",
            " 8   Concrete Compressive Strength(MPa, megapascals)   1030 non-null   float64\n",
            "dtypes: float64(8), int64(1)\n",
            "memory usage: 72.5 KB\n"
          ]
        }
      ]
    },
    {
      "cell_type": "code",
      "source": [
        "#summary statistics\n",
        "strength.describe()"
      ],
      "metadata": {
        "colab": {
          "base_uri": "https://localhost:8080/",
          "height": 379
        },
        "id": "wbyVtVnIIY0U",
        "outputId": "cd73c0a4-7704-4a49-d7bc-c5dd77c62498"
      },
      "execution_count": null,
      "outputs": [
        {
          "output_type": "execute_result",
          "data": {
            "text/plain": [
              "       Cement (kg in a m^3 mixture)  Blast Furnace Slag (kg in a m^3 mixture)  \\\n",
              "count                   1030.000000                               1030.000000   \n",
              "mean                     281.165631                                 73.895485   \n",
              "std                      104.507142                                 86.279104   \n",
              "min                      102.000000                                  0.000000   \n",
              "25%                      192.375000                                  0.000000   \n",
              "50%                      272.900000                                 22.000000   \n",
              "75%                      350.000000                                142.950000   \n",
              "max                      540.000000                                359.400000   \n",
              "\n",
              "       Fly Ash (kg in a m^3 mixture)  Water (kg in a m^3 mixture)  \\\n",
              "count                    1030.000000                  1030.000000   \n",
              "mean                       54.187136                   181.566359   \n",
              "std                        63.996469                    21.355567   \n",
              "min                         0.000000                   121.750000   \n",
              "25%                         0.000000                   164.900000   \n",
              "50%                         0.000000                   185.000000   \n",
              "75%                       118.270000                   192.000000   \n",
              "max                       200.100000                   247.000000   \n",
              "\n",
              "       Superplasticizer (kg in a m^3 mixture)  \\\n",
              "count                             1030.000000   \n",
              "mean                                 6.203112   \n",
              "std                                  5.973492   \n",
              "min                                  0.000000   \n",
              "25%                                  0.000000   \n",
              "50%                                  6.350000   \n",
              "75%                                 10.160000   \n",
              "max                                 32.200000   \n",
              "\n",
              "       Coarse Aggregate (kg in a m^3 mixture)  \\\n",
              "count                             1030.000000   \n",
              "mean                               972.918592   \n",
              "std                                 77.753818   \n",
              "min                                801.000000   \n",
              "25%                                932.000000   \n",
              "50%                                968.000000   \n",
              "75%                               1029.400000   \n",
              "max                               1145.000000   \n",
              "\n",
              "       Fine Aggregate (kg in a m^3 mixture)    Age (day)  \\\n",
              "count                           1030.000000  1030.000000   \n",
              "mean                             773.578883    45.662136   \n",
              "std                               80.175427    63.169912   \n",
              "min                              594.000000     1.000000   \n",
              "25%                              730.950000     7.000000   \n",
              "50%                              779.510000    28.000000   \n",
              "75%                              824.000000    56.000000   \n",
              "max                              992.600000   365.000000   \n",
              "\n",
              "       Concrete Compressive Strength(MPa, megapascals)   \n",
              "count                                       1030.000000  \n",
              "mean                                          35.817836  \n",
              "std                                           16.705679  \n",
              "min                                            2.331808  \n",
              "25%                                           23.707115  \n",
              "50%                                           34.442774  \n",
              "75%                                           46.136287  \n",
              "max                                           82.599225  "
            ],
            "text/html": [
              "\n",
              "  <div id=\"df-e8db9f84-affb-4f04-bf78-171ddddc2f64\">\n",
              "    <div class=\"colab-df-container\">\n",
              "      <div>\n",
              "<style scoped>\n",
              "    .dataframe tbody tr th:only-of-type {\n",
              "        vertical-align: middle;\n",
              "    }\n",
              "\n",
              "    .dataframe tbody tr th {\n",
              "        vertical-align: top;\n",
              "    }\n",
              "\n",
              "    .dataframe thead th {\n",
              "        text-align: right;\n",
              "    }\n",
              "</style>\n",
              "<table border=\"1\" class=\"dataframe\">\n",
              "  <thead>\n",
              "    <tr style=\"text-align: right;\">\n",
              "      <th></th>\n",
              "      <th>Cement (kg in a m^3 mixture)</th>\n",
              "      <th>Blast Furnace Slag (kg in a m^3 mixture)</th>\n",
              "      <th>Fly Ash (kg in a m^3 mixture)</th>\n",
              "      <th>Water (kg in a m^3 mixture)</th>\n",
              "      <th>Superplasticizer (kg in a m^3 mixture)</th>\n",
              "      <th>Coarse Aggregate (kg in a m^3 mixture)</th>\n",
              "      <th>Fine Aggregate (kg in a m^3 mixture)</th>\n",
              "      <th>Age (day)</th>\n",
              "      <th>Concrete Compressive Strength(MPa, megapascals)</th>\n",
              "    </tr>\n",
              "  </thead>\n",
              "  <tbody>\n",
              "    <tr>\n",
              "      <th>count</th>\n",
              "      <td>1030.000000</td>\n",
              "      <td>1030.000000</td>\n",
              "      <td>1030.000000</td>\n",
              "      <td>1030.000000</td>\n",
              "      <td>1030.000000</td>\n",
              "      <td>1030.000000</td>\n",
              "      <td>1030.000000</td>\n",
              "      <td>1030.000000</td>\n",
              "      <td>1030.000000</td>\n",
              "    </tr>\n",
              "    <tr>\n",
              "      <th>mean</th>\n",
              "      <td>281.165631</td>\n",
              "      <td>73.895485</td>\n",
              "      <td>54.187136</td>\n",
              "      <td>181.566359</td>\n",
              "      <td>6.203112</td>\n",
              "      <td>972.918592</td>\n",
              "      <td>773.578883</td>\n",
              "      <td>45.662136</td>\n",
              "      <td>35.817836</td>\n",
              "    </tr>\n",
              "    <tr>\n",
              "      <th>std</th>\n",
              "      <td>104.507142</td>\n",
              "      <td>86.279104</td>\n",
              "      <td>63.996469</td>\n",
              "      <td>21.355567</td>\n",
              "      <td>5.973492</td>\n",
              "      <td>77.753818</td>\n",
              "      <td>80.175427</td>\n",
              "      <td>63.169912</td>\n",
              "      <td>16.705679</td>\n",
              "    </tr>\n",
              "    <tr>\n",
              "      <th>min</th>\n",
              "      <td>102.000000</td>\n",
              "      <td>0.000000</td>\n",
              "      <td>0.000000</td>\n",
              "      <td>121.750000</td>\n",
              "      <td>0.000000</td>\n",
              "      <td>801.000000</td>\n",
              "      <td>594.000000</td>\n",
              "      <td>1.000000</td>\n",
              "      <td>2.331808</td>\n",
              "    </tr>\n",
              "    <tr>\n",
              "      <th>25%</th>\n",
              "      <td>192.375000</td>\n",
              "      <td>0.000000</td>\n",
              "      <td>0.000000</td>\n",
              "      <td>164.900000</td>\n",
              "      <td>0.000000</td>\n",
              "      <td>932.000000</td>\n",
              "      <td>730.950000</td>\n",
              "      <td>7.000000</td>\n",
              "      <td>23.707115</td>\n",
              "    </tr>\n",
              "    <tr>\n",
              "      <th>50%</th>\n",
              "      <td>272.900000</td>\n",
              "      <td>22.000000</td>\n",
              "      <td>0.000000</td>\n",
              "      <td>185.000000</td>\n",
              "      <td>6.350000</td>\n",
              "      <td>968.000000</td>\n",
              "      <td>779.510000</td>\n",
              "      <td>28.000000</td>\n",
              "      <td>34.442774</td>\n",
              "    </tr>\n",
              "    <tr>\n",
              "      <th>75%</th>\n",
              "      <td>350.000000</td>\n",
              "      <td>142.950000</td>\n",
              "      <td>118.270000</td>\n",
              "      <td>192.000000</td>\n",
              "      <td>10.160000</td>\n",
              "      <td>1029.400000</td>\n",
              "      <td>824.000000</td>\n",
              "      <td>56.000000</td>\n",
              "      <td>46.136287</td>\n",
              "    </tr>\n",
              "    <tr>\n",
              "      <th>max</th>\n",
              "      <td>540.000000</td>\n",
              "      <td>359.400000</td>\n",
              "      <td>200.100000</td>\n",
              "      <td>247.000000</td>\n",
              "      <td>32.200000</td>\n",
              "      <td>1145.000000</td>\n",
              "      <td>992.600000</td>\n",
              "      <td>365.000000</td>\n",
              "      <td>82.599225</td>\n",
              "    </tr>\n",
              "  </tbody>\n",
              "</table>\n",
              "</div>\n",
              "      <button class=\"colab-df-convert\" onclick=\"convertToInteractive('df-e8db9f84-affb-4f04-bf78-171ddddc2f64')\"\n",
              "              title=\"Convert this dataframe to an interactive table.\"\n",
              "              style=\"display:none;\">\n",
              "        \n",
              "  <svg xmlns=\"http://www.w3.org/2000/svg\" height=\"24px\"viewBox=\"0 0 24 24\"\n",
              "       width=\"24px\">\n",
              "    <path d=\"M0 0h24v24H0V0z\" fill=\"none\"/>\n",
              "    <path d=\"M18.56 5.44l.94 2.06.94-2.06 2.06-.94-2.06-.94-.94-2.06-.94 2.06-2.06.94zm-11 1L8.5 8.5l.94-2.06 2.06-.94-2.06-.94L8.5 2.5l-.94 2.06-2.06.94zm10 10l.94 2.06.94-2.06 2.06-.94-2.06-.94-.94-2.06-.94 2.06-2.06.94z\"/><path d=\"M17.41 7.96l-1.37-1.37c-.4-.4-.92-.59-1.43-.59-.52 0-1.04.2-1.43.59L10.3 9.45l-7.72 7.72c-.78.78-.78 2.05 0 2.83L4 21.41c.39.39.9.59 1.41.59.51 0 1.02-.2 1.41-.59l7.78-7.78 2.81-2.81c.8-.78.8-2.07 0-2.86zM5.41 20L4 18.59l7.72-7.72 1.47 1.35L5.41 20z\"/>\n",
              "  </svg>\n",
              "      </button>\n",
              "      \n",
              "  <style>\n",
              "    .colab-df-container {\n",
              "      display:flex;\n",
              "      flex-wrap:wrap;\n",
              "      gap: 12px;\n",
              "    }\n",
              "\n",
              "    .colab-df-convert {\n",
              "      background-color: #E8F0FE;\n",
              "      border: none;\n",
              "      border-radius: 50%;\n",
              "      cursor: pointer;\n",
              "      display: none;\n",
              "      fill: #1967D2;\n",
              "      height: 32px;\n",
              "      padding: 0 0 0 0;\n",
              "      width: 32px;\n",
              "    }\n",
              "\n",
              "    .colab-df-convert:hover {\n",
              "      background-color: #E2EBFA;\n",
              "      box-shadow: 0px 1px 2px rgba(60, 64, 67, 0.3), 0px 1px 3px 1px rgba(60, 64, 67, 0.15);\n",
              "      fill: #174EA6;\n",
              "    }\n",
              "\n",
              "    [theme=dark] .colab-df-convert {\n",
              "      background-color: #3B4455;\n",
              "      fill: #D2E3FC;\n",
              "    }\n",
              "\n",
              "    [theme=dark] .colab-df-convert:hover {\n",
              "      background-color: #434B5C;\n",
              "      box-shadow: 0px 1px 3px 1px rgba(0, 0, 0, 0.15);\n",
              "      filter: drop-shadow(0px 1px 2px rgba(0, 0, 0, 0.3));\n",
              "      fill: #FFFFFF;\n",
              "    }\n",
              "  </style>\n",
              "\n",
              "      <script>\n",
              "        const buttonEl =\n",
              "          document.querySelector('#df-e8db9f84-affb-4f04-bf78-171ddddc2f64 button.colab-df-convert');\n",
              "        buttonEl.style.display =\n",
              "          google.colab.kernel.accessAllowed ? 'block' : 'none';\n",
              "\n",
              "        async function convertToInteractive(key) {\n",
              "          const element = document.querySelector('#df-e8db9f84-affb-4f04-bf78-171ddddc2f64');\n",
              "          const dataTable =\n",
              "            await google.colab.kernel.invokeFunction('convertToInteractive',\n",
              "                                                     [key], {});\n",
              "          if (!dataTable) return;\n",
              "\n",
              "          const docLinkHtml = 'Like what you see? Visit the ' +\n",
              "            '<a target=\"_blank\" href=https://colab.research.google.com/notebooks/data_table.ipynb>data table notebook</a>'\n",
              "            + ' to learn more about interactive tables.';\n",
              "          element.innerHTML = '';\n",
              "          dataTable['output_type'] = 'display_data';\n",
              "          await google.colab.output.renderOutput(dataTable, element);\n",
              "          const docLink = document.createElement('div');\n",
              "          docLink.innerHTML = docLinkHtml;\n",
              "          element.appendChild(docLink);\n",
              "        }\n",
              "      </script>\n",
              "    </div>\n",
              "  </div>\n",
              "  "
            ]
          },
          "metadata": {},
          "execution_count": 40
        }
      ]
    },
    {
      "cell_type": "code",
      "source": [
        "#define target(y)and features (x)\n",
        "strength.columns"
      ],
      "metadata": {
        "colab": {
          "base_uri": "https://localhost:8080/"
        },
        "id": "GGnIiN8tFhEg",
        "outputId": "531ff966-2968-4b2f-8c92-0f6f52a1d59e"
      },
      "execution_count": null,
      "outputs": [
        {
          "output_type": "execute_result",
          "data": {
            "text/plain": [
              "Index(['Cement (kg in a m^3 mixture)',\n",
              "       'Blast Furnace Slag (kg in a m^3 mixture)',\n",
              "       'Fly Ash (kg in a m^3 mixture)', 'Water (kg in a m^3 mixture)',\n",
              "       'Superplasticizer (kg in a m^3 mixture)',\n",
              "       'Coarse Aggregate (kg in a m^3 mixture)',\n",
              "       'Fine Aggregate (kg in a m^3 mixture)', 'Age (day)',\n",
              "       'Concrete Compressive Strength(MPa, megapascals) '],\n",
              "      dtype='object')"
            ]
          },
          "metadata": {},
          "execution_count": 41
        }
      ]
    },
    {
      "cell_type": "code",
      "source": [
        "y=strength['Concrete Compressive Strength(MPa, megapascals) ']"
      ],
      "metadata": {
        "id": "qfD9YhKSIKL8"
      },
      "execution_count": null,
      "outputs": []
    },
    {
      "cell_type": "code",
      "source": [
        "x=strength[['Cement (kg in a m^3 mixture)',\n",
        "       'Blast Furnace Slag (kg in a m^3 mixture)',\n",
        "       'Fly Ash (kg in a m^3 mixture)', 'Water (kg in a m^3 mixture)',\n",
        "       'Superplasticizer (kg in a m^3 mixture)',\n",
        "       'Coarse Aggregate (kg in a m^3 mixture)',\n",
        "       'Fine Aggregate (kg in a m^3 mixture)', 'Age (day)']]\n"
      ],
      "metadata": {
        "id": "aECKNC3CKuLr"
      },
      "execution_count": null,
      "outputs": []
    },
    {
      "cell_type": "code",
      "source": [
        "strength.shape"
      ],
      "metadata": {
        "colab": {
          "base_uri": "https://localhost:8080/"
        },
        "id": "DxlDmymXLKDN",
        "outputId": "357ce56c-81bf-415e-9cae-c827df9cb8a8"
      },
      "execution_count": null,
      "outputs": [
        {
          "output_type": "execute_result",
          "data": {
            "text/plain": [
              "(1030, 9)"
            ]
          },
          "metadata": {},
          "execution_count": 44
        }
      ]
    },
    {
      "cell_type": "code",
      "source": [
        "#split data\n",
        "from sklearn.model_selection import train_test_split\n",
        "x_train,x_test,y_train,y_test=train_test_split(x,y,train_size=0.7,random_state=2529)"
      ],
      "metadata": {
        "id": "LIeBa_fQL0RA"
      },
      "execution_count": null,
      "outputs": []
    },
    {
      "cell_type": "code",
      "source": [
        "#verify shape\n",
        "x_train.shape,x_test.shape,y_train.shape,y_test.shape\n"
      ],
      "metadata": {
        "colab": {
          "base_uri": "https://localhost:8080/"
        },
        "id": "rptpfD8OMuSb",
        "outputId": "56d00a95-1bf1-4015-e39a-44e96a7fa153"
      },
      "execution_count": null,
      "outputs": [
        {
          "output_type": "execute_result",
          "data": {
            "text/plain": [
              "((721, 8), (309, 8), (721,), (309,))"
            ]
          },
          "metadata": {},
          "execution_count": 46
        }
      ]
    },
    {
      "cell_type": "code",
      "source": [
        "#verify fixed random state\n",
        "x_train"
      ],
      "metadata": {
        "colab": {
          "base_uri": "https://localhost:8080/",
          "height": 485
        },
        "id": "kll1fQDYNmkz",
        "outputId": "ccba501f-bfa8-4ff8-bac9-a25a073957ba"
      },
      "execution_count": null,
      "outputs": [
        {
          "output_type": "execute_result",
          "data": {
            "text/plain": [
              "     Cement (kg in a m^3 mixture)  Blast Furnace Slag (kg in a m^3 mixture)  \\\n",
              "201                        190.68                                       0.0   \n",
              "930                        159.00                                     209.0   \n",
              "656                        200.00                                     133.0   \n",
              "770                        349.00                                       0.0   \n",
              "829                        273.00                                     105.0   \n",
              "..                            ...                                       ...   \n",
              "380                        475.00                                       0.0   \n",
              "943                        151.60                                       0.0   \n",
              "740                        297.00                                       0.0   \n",
              "399                        234.00                                     156.0   \n",
              "828                        522.00                                       0.0   \n",
              "\n",
              "     Fly Ash (kg in a m^3 mixture)  Water (kg in a m^3 mixture)  \\\n",
              "201                          125.4                       162.14   \n",
              "930                          161.0                       201.00   \n",
              "656                            0.0                       192.00   \n",
              "770                            0.0                       192.00   \n",
              "829                           82.0                       210.00   \n",
              "..                             ...                          ...   \n",
              "380                           59.0                       142.00   \n",
              "943                          111.9                       184.40   \n",
              "740                            0.0                       186.00   \n",
              "399                            0.0                       189.00   \n",
              "828                            0.0                       146.00   \n",
              "\n",
              "     Superplasticizer (kg in a m^3 mixture)  \\\n",
              "201                                    7.77   \n",
              "930                                    7.00   \n",
              "656                                    0.00   \n",
              "770                                    0.00   \n",
              "829                                    9.00   \n",
              "..                                      ...   \n",
              "380                                    1.90   \n",
              "943                                    7.90   \n",
              "740                                    0.00   \n",
              "399                                    5.85   \n",
              "828                                    0.00   \n",
              "\n",
              "     Coarse Aggregate (kg in a m^3 mixture)  \\\n",
              "201                                  1090.0   \n",
              "930                                   848.0   \n",
              "656                                   965.4   \n",
              "770                                  1047.0   \n",
              "829                                   904.0   \n",
              "..                                      ...   \n",
              "380                                  1098.0   \n",
              "943                                   992.0   \n",
              "740                                  1040.0   \n",
              "399                                   981.0   \n",
              "828                                   896.0   \n",
              "\n",
              "     Fine Aggregate (kg in a m^3 mixture)  Age (day)  \n",
              "201                                804.01         28  \n",
              "930                                669.00         28  \n",
              "656                                806.20          3  \n",
              "770                                806.00          3  \n",
              "829                                680.00         28  \n",
              "..                                    ...        ...  \n",
              "380                                641.00         28  \n",
              "943                                815.90         28  \n",
              "740                                734.00          7  \n",
              "399                                760.00         28  \n",
              "828                                896.00         28  \n",
              "\n",
              "[721 rows x 8 columns]"
            ],
            "text/html": [
              "\n",
              "  <div id=\"df-687654d3-191e-4673-815a-66142259329c\">\n",
              "    <div class=\"colab-df-container\">\n",
              "      <div>\n",
              "<style scoped>\n",
              "    .dataframe tbody tr th:only-of-type {\n",
              "        vertical-align: middle;\n",
              "    }\n",
              "\n",
              "    .dataframe tbody tr th {\n",
              "        vertical-align: top;\n",
              "    }\n",
              "\n",
              "    .dataframe thead th {\n",
              "        text-align: right;\n",
              "    }\n",
              "</style>\n",
              "<table border=\"1\" class=\"dataframe\">\n",
              "  <thead>\n",
              "    <tr style=\"text-align: right;\">\n",
              "      <th></th>\n",
              "      <th>Cement (kg in a m^3 mixture)</th>\n",
              "      <th>Blast Furnace Slag (kg in a m^3 mixture)</th>\n",
              "      <th>Fly Ash (kg in a m^3 mixture)</th>\n",
              "      <th>Water (kg in a m^3 mixture)</th>\n",
              "      <th>Superplasticizer (kg in a m^3 mixture)</th>\n",
              "      <th>Coarse Aggregate (kg in a m^3 mixture)</th>\n",
              "      <th>Fine Aggregate (kg in a m^3 mixture)</th>\n",
              "      <th>Age (day)</th>\n",
              "    </tr>\n",
              "  </thead>\n",
              "  <tbody>\n",
              "    <tr>\n",
              "      <th>201</th>\n",
              "      <td>190.68</td>\n",
              "      <td>0.0</td>\n",
              "      <td>125.4</td>\n",
              "      <td>162.14</td>\n",
              "      <td>7.77</td>\n",
              "      <td>1090.0</td>\n",
              "      <td>804.01</td>\n",
              "      <td>28</td>\n",
              "    </tr>\n",
              "    <tr>\n",
              "      <th>930</th>\n",
              "      <td>159.00</td>\n",
              "      <td>209.0</td>\n",
              "      <td>161.0</td>\n",
              "      <td>201.00</td>\n",
              "      <td>7.00</td>\n",
              "      <td>848.0</td>\n",
              "      <td>669.00</td>\n",
              "      <td>28</td>\n",
              "    </tr>\n",
              "    <tr>\n",
              "      <th>656</th>\n",
              "      <td>200.00</td>\n",
              "      <td>133.0</td>\n",
              "      <td>0.0</td>\n",
              "      <td>192.00</td>\n",
              "      <td>0.00</td>\n",
              "      <td>965.4</td>\n",
              "      <td>806.20</td>\n",
              "      <td>3</td>\n",
              "    </tr>\n",
              "    <tr>\n",
              "      <th>770</th>\n",
              "      <td>349.00</td>\n",
              "      <td>0.0</td>\n",
              "      <td>0.0</td>\n",
              "      <td>192.00</td>\n",
              "      <td>0.00</td>\n",
              "      <td>1047.0</td>\n",
              "      <td>806.00</td>\n",
              "      <td>3</td>\n",
              "    </tr>\n",
              "    <tr>\n",
              "      <th>829</th>\n",
              "      <td>273.00</td>\n",
              "      <td>105.0</td>\n",
              "      <td>82.0</td>\n",
              "      <td>210.00</td>\n",
              "      <td>9.00</td>\n",
              "      <td>904.0</td>\n",
              "      <td>680.00</td>\n",
              "      <td>28</td>\n",
              "    </tr>\n",
              "    <tr>\n",
              "      <th>...</th>\n",
              "      <td>...</td>\n",
              "      <td>...</td>\n",
              "      <td>...</td>\n",
              "      <td>...</td>\n",
              "      <td>...</td>\n",
              "      <td>...</td>\n",
              "      <td>...</td>\n",
              "      <td>...</td>\n",
              "    </tr>\n",
              "    <tr>\n",
              "      <th>380</th>\n",
              "      <td>475.00</td>\n",
              "      <td>0.0</td>\n",
              "      <td>59.0</td>\n",
              "      <td>142.00</td>\n",
              "      <td>1.90</td>\n",
              "      <td>1098.0</td>\n",
              "      <td>641.00</td>\n",
              "      <td>28</td>\n",
              "    </tr>\n",
              "    <tr>\n",
              "      <th>943</th>\n",
              "      <td>151.60</td>\n",
              "      <td>0.0</td>\n",
              "      <td>111.9</td>\n",
              "      <td>184.40</td>\n",
              "      <td>7.90</td>\n",
              "      <td>992.0</td>\n",
              "      <td>815.90</td>\n",
              "      <td>28</td>\n",
              "    </tr>\n",
              "    <tr>\n",
              "      <th>740</th>\n",
              "      <td>297.00</td>\n",
              "      <td>0.0</td>\n",
              "      <td>0.0</td>\n",
              "      <td>186.00</td>\n",
              "      <td>0.00</td>\n",
              "      <td>1040.0</td>\n",
              "      <td>734.00</td>\n",
              "      <td>7</td>\n",
              "    </tr>\n",
              "    <tr>\n",
              "      <th>399</th>\n",
              "      <td>234.00</td>\n",
              "      <td>156.0</td>\n",
              "      <td>0.0</td>\n",
              "      <td>189.00</td>\n",
              "      <td>5.85</td>\n",
              "      <td>981.0</td>\n",
              "      <td>760.00</td>\n",
              "      <td>28</td>\n",
              "    </tr>\n",
              "    <tr>\n",
              "      <th>828</th>\n",
              "      <td>522.00</td>\n",
              "      <td>0.0</td>\n",
              "      <td>0.0</td>\n",
              "      <td>146.00</td>\n",
              "      <td>0.00</td>\n",
              "      <td>896.0</td>\n",
              "      <td>896.00</td>\n",
              "      <td>28</td>\n",
              "    </tr>\n",
              "  </tbody>\n",
              "</table>\n",
              "<p>721 rows × 8 columns</p>\n",
              "</div>\n",
              "      <button class=\"colab-df-convert\" onclick=\"convertToInteractive('df-687654d3-191e-4673-815a-66142259329c')\"\n",
              "              title=\"Convert this dataframe to an interactive table.\"\n",
              "              style=\"display:none;\">\n",
              "        \n",
              "  <svg xmlns=\"http://www.w3.org/2000/svg\" height=\"24px\"viewBox=\"0 0 24 24\"\n",
              "       width=\"24px\">\n",
              "    <path d=\"M0 0h24v24H0V0z\" fill=\"none\"/>\n",
              "    <path d=\"M18.56 5.44l.94 2.06.94-2.06 2.06-.94-2.06-.94-.94-2.06-.94 2.06-2.06.94zm-11 1L8.5 8.5l.94-2.06 2.06-.94-2.06-.94L8.5 2.5l-.94 2.06-2.06.94zm10 10l.94 2.06.94-2.06 2.06-.94-2.06-.94-.94-2.06-.94 2.06-2.06.94z\"/><path d=\"M17.41 7.96l-1.37-1.37c-.4-.4-.92-.59-1.43-.59-.52 0-1.04.2-1.43.59L10.3 9.45l-7.72 7.72c-.78.78-.78 2.05 0 2.83L4 21.41c.39.39.9.59 1.41.59.51 0 1.02-.2 1.41-.59l7.78-7.78 2.81-2.81c.8-.78.8-2.07 0-2.86zM5.41 20L4 18.59l7.72-7.72 1.47 1.35L5.41 20z\"/>\n",
              "  </svg>\n",
              "      </button>\n",
              "      \n",
              "  <style>\n",
              "    .colab-df-container {\n",
              "      display:flex;\n",
              "      flex-wrap:wrap;\n",
              "      gap: 12px;\n",
              "    }\n",
              "\n",
              "    .colab-df-convert {\n",
              "      background-color: #E8F0FE;\n",
              "      border: none;\n",
              "      border-radius: 50%;\n",
              "      cursor: pointer;\n",
              "      display: none;\n",
              "      fill: #1967D2;\n",
              "      height: 32px;\n",
              "      padding: 0 0 0 0;\n",
              "      width: 32px;\n",
              "    }\n",
              "\n",
              "    .colab-df-convert:hover {\n",
              "      background-color: #E2EBFA;\n",
              "      box-shadow: 0px 1px 2px rgba(60, 64, 67, 0.3), 0px 1px 3px 1px rgba(60, 64, 67, 0.15);\n",
              "      fill: #174EA6;\n",
              "    }\n",
              "\n",
              "    [theme=dark] .colab-df-convert {\n",
              "      background-color: #3B4455;\n",
              "      fill: #D2E3FC;\n",
              "    }\n",
              "\n",
              "    [theme=dark] .colab-df-convert:hover {\n",
              "      background-color: #434B5C;\n",
              "      box-shadow: 0px 1px 3px 1px rgba(0, 0, 0, 0.15);\n",
              "      filter: drop-shadow(0px 1px 2px rgba(0, 0, 0, 0.3));\n",
              "      fill: #FFFFFF;\n",
              "    }\n",
              "  </style>\n",
              "\n",
              "      <script>\n",
              "        const buttonEl =\n",
              "          document.querySelector('#df-687654d3-191e-4673-815a-66142259329c button.colab-df-convert');\n",
              "        buttonEl.style.display =\n",
              "          google.colab.kernel.accessAllowed ? 'block' : 'none';\n",
              "\n",
              "        async function convertToInteractive(key) {\n",
              "          const element = document.querySelector('#df-687654d3-191e-4673-815a-66142259329c');\n",
              "          const dataTable =\n",
              "            await google.colab.kernel.invokeFunction('convertToInteractive',\n",
              "                                                     [key], {});\n",
              "          if (!dataTable) return;\n",
              "\n",
              "          const docLinkHtml = 'Like what you see? Visit the ' +\n",
              "            '<a target=\"_blank\" href=https://colab.research.google.com/notebooks/data_table.ipynb>data table notebook</a>'\n",
              "            + ' to learn more about interactive tables.';\n",
              "          element.innerHTML = '';\n",
              "          dataTable['output_type'] = 'display_data';\n",
              "          await google.colab.output.renderOutput(dataTable, element);\n",
              "          const docLink = document.createElement('div');\n",
              "          docLink.innerHTML = docLinkHtml;\n",
              "          element.appendChild(docLink);\n",
              "        }\n",
              "      </script>\n",
              "    </div>\n",
              "  </div>\n",
              "  "
            ]
          },
          "metadata": {},
          "execution_count": 48
        }
      ]
    },
    {
      "cell_type": "code",
      "source": [
        "#select model\n",
        "from sklearn.linear_model import LinearRegression\n",
        "model=LinearRegression()"
      ],
      "metadata": {
        "id": "gBHD5r_lyXyo"
      },
      "execution_count": null,
      "outputs": []
    },
    {
      "cell_type": "code",
      "source": [
        "#train model\n",
        "model.fit(x_train,y_train)"
      ],
      "metadata": {
        "colab": {
          "base_uri": "https://localhost:8080/"
        },
        "id": "v71uiaWxzERi",
        "outputId": "f8a82262-b2f6-45a6-cd1e-3718c1891e28"
      },
      "execution_count": null,
      "outputs": [
        {
          "output_type": "execute_result",
          "data": {
            "text/plain": [
              "LinearRegression()"
            ]
          },
          "metadata": {},
          "execution_count": 50
        }
      ]
    },
    {
      "cell_type": "code",
      "source": [
        "#to determine intercept of best fit line\n",
        "model.intercept_"
      ],
      "metadata": {
        "id": "J6ef21bT1t8H",
        "colab": {
          "base_uri": "https://localhost:8080/"
        },
        "outputId": "ef8e94c7-f0b3-43eb-8688-224c3d7778cf"
      },
      "execution_count": null,
      "outputs": [
        {
          "output_type": "execute_result",
          "data": {
            "text/plain": [
              "9.091564943904963"
            ]
          },
          "metadata": {},
          "execution_count": 52
        }
      ]
    },
    {
      "cell_type": "code",
      "source": [
        "#to determine slopes of best fit line\n",
        "model.coef_"
      ],
      "metadata": {
        "colab": {
          "base_uri": "https://localhost:8080/"
        },
        "id": "fQgvQmjxRjOq",
        "outputId": "1ead3638-e892-477e-d94f-28c0ec3d8c12"
      },
      "execution_count": null,
      "outputs": [
        {
          "output_type": "execute_result",
          "data": {
            "text/plain": [
              "array([ 0.10993242,  0.09405068,  0.08143475, -0.21109854,  0.24127402,\n",
              "        0.00874882,  0.00890343,  0.1329637 ])"
            ]
          },
          "metadata": {},
          "execution_count": 53
        }
      ]
    },
    {
      "cell_type": "code",
      "source": [
        "#Predict model\n",
        "y_pred=model.predict(x_test)"
      ],
      "metadata": {
        "id": "It13gwPQRzto"
      },
      "execution_count": null,
      "outputs": []
    },
    {
      "cell_type": "code",
      "source": [
        "#find the predicted value of compresssive strength(y)\n",
        "y_pred "
      ],
      "metadata": {
        "colab": {
          "base_uri": "https://localhost:8080/"
        },
        "id": "YwSF6XEbYe0i",
        "outputId": "da52d6c1-ae48-4bab-b37e-cc81b1220c7d"
      },
      "execution_count": null,
      "outputs": [
        {
          "output_type": "execute_result",
          "data": {
            "text/plain": [
              "array([32.9126838 , 29.49103627, 51.22744988, 30.72830892, 61.01296607,\n",
              "       36.1860749 , 18.19613228, 26.67718822, 31.39625583, 45.79720573,\n",
              "       27.01819052, 22.39021356, 58.90321481, 44.06988109, 18.33538005,\n",
              "       52.04886033, 36.49614143, 22.60633035, 30.30663022, 31.18479226,\n",
              "       27.89909444, 32.26166347, 36.44587199, 31.20297845, 32.16141073,\n",
              "       31.42165654, 44.72420225, 40.86127394, 73.03848849, 38.1254862 ,\n",
              "       40.46367612, 49.81062665, 14.41496407, 61.79729246, 50.64223527,\n",
              "       41.04723247, 27.55227895, 25.95109489, 41.91398869, 36.47050866,\n",
              "       68.71688125, 21.52022469, 50.64223527, 34.38615155, 33.98783598,\n",
              "       23.2595543 , 27.43079038, 63.57584523, 61.7732999 , 36.71417786,\n",
              "       33.12177958, 39.83037545, 24.30184486, 53.62147764, 31.66355469,\n",
              "       48.4918046 , 44.42143815, 23.85939922, 50.55499844, 54.17541752,\n",
              "       28.12522197, 48.10148132, 56.81515762, 50.11038048, 36.31278417,\n",
              "       32.89852959, 53.07186634, 16.60411502, 24.9233279 , 20.59680716,\n",
              "       50.00886894, 21.0671616 , 35.96392102, 43.22243776, 71.13016829,\n",
              "       28.06846777, 51.14530899, 71.33246291, 34.75406054, 67.81254556,\n",
              "       40.79853376, 47.72161616, 19.68092909, 34.35832071, 18.12365678,\n",
              "       40.13704815, 49.9503368 , 51.54780009, 36.62185052, 59.66075511,\n",
              "       30.79521514, 40.18457343, 72.73642168, 28.5357489 , 48.29185085,\n",
              "       50.30032573, 47.49054785, 16.51483575, 26.91221581, 34.2459002 ,\n",
              "       34.41459454, 54.76869207, 34.58438024, 30.09433808, 48.25347094,\n",
              "       47.82660576, 61.07175581, 32.7309265 , 39.6344388 , 38.99978219,\n",
              "       56.46390995, 17.56006747, 45.30924369, 53.09217412, 24.03757125,\n",
              "       50.94429407, 23.8465461 , 19.81409272, 18.21774816, 23.02423472,\n",
              "       23.93725452, 24.46332994, 32.16504781, 37.5548739 , 45.9553106 ,\n",
              "       40.06622837, 60.25858354, 25.21458755, 40.04006073, 33.29775811,\n",
              "       32.58980067, 27.40577625, 53.70076652, 62.52173113, 35.68139271,\n",
              "       49.04623338, 40.77636459, 23.10197432, 29.4523936 , 32.19577565,\n",
              "       60.18689345, 16.25999227, 32.03168506, 58.32704968, 50.6134542 ,\n",
              "       51.15254721, 38.58826576, 22.20896221, 61.7673486 , 24.18048316,\n",
              "       34.90040811, 53.4344729 , 61.81118577, 37.10494356, 47.90760793,\n",
              "       21.20227966, 30.34451658, 41.19046069, 27.58771507, 23.2890179 ,\n",
              "       27.01534309, 28.49181472, 46.67750923, 48.16599367, 53.13981754,\n",
              "       35.71578375, 18.29439526, 32.9981708 , 44.11919207, 26.42606673,\n",
              "       30.86341498, 27.6454861 , 18.76707952, 37.79855626, 23.56246468,\n",
              "       48.05030357, 58.74981848, 54.53595981, 23.69364792, 26.63919552,\n",
              "       11.53814172, 31.72911617, 50.03706226, 28.08136899, 66.22120055,\n",
              "       16.4945002 , 29.68237955, 57.1574564 , 37.1395837 , 34.47446385,\n",
              "       46.78308579, 34.66981592, 21.74781672, 22.52942917, 27.27994933,\n",
              "       10.70963052, 40.0721582 , 68.72642727, 50.64223527, 16.48056724,\n",
              "       35.46767518, 37.31673037, 29.30506437, 42.16318682, 30.87152619,\n",
              "       32.3329803 , 28.46840907, 58.25894331, 50.58396055, 37.10008272,\n",
              "       36.59644471, 19.59797594, 62.0991097 , 24.94851492, 50.62069242,\n",
              "       32.18867991, 33.22258473, 20.59356914, 22.3159537 , 31.31420488,\n",
              "       23.57731886, 41.27209193, 27.09167074, 52.62067923, 43.87908019,\n",
              "       48.9897518 , 27.69867303, 16.73122068, 54.61313489, 46.33382118,\n",
              "       65.68934576, 71.38136964, 25.83718128, 19.14238553, 35.6884173 ,\n",
              "       29.90766307, 47.51844879, 29.24534744, 22.39762405, 51.92349187,\n",
              "       31.82672369, 31.41775018, 38.84065415, 33.1209942 , 11.2414853 ,\n",
              "       57.40537251, 32.90957901, 31.28405235, 30.53662289, 53.94478483,\n",
              "       29.39610782, 56.52409007, 27.41554843, 39.52486097, 47.3719424 ,\n",
              "       39.62385834, 34.815488  , 66.62209046, 28.51945838, 21.7204462 ,\n",
              "       71.88037317, 46.62624439, 30.04137681, 21.56163406, 29.25603812,\n",
              "       45.25477885, 19.61067053, 34.05676695, 20.34450591, 33.28932435,\n",
              "       36.02520561, 22.31280914, 30.81556288, 27.58238273, 44.45541777,\n",
              "       34.92596195, 16.28529754, 39.10675182, 23.60253061, 29.6220465 ,\n",
              "       13.72259812, 23.17959608, 22.79093874, 34.25318309, 35.1508161 ,\n",
              "       20.64311267, 28.18898044, 12.06999651, 53.83199884, 37.64867556,\n",
              "       27.09257937, 43.13943072, 29.44906551, 42.44580907, 29.25738559,\n",
              "       33.32229177, 51.54988366, 30.87037964, 29.43415263, 69.01343818,\n",
              "       62.36883319, 32.05320507, 28.17229719, 19.90686336, 59.90115447,\n",
              "       64.78285728, 25.9718337 , 17.56596366, 38.60218436])"
            ]
          },
          "metadata": {},
          "execution_count": 57
        }
      ]
    },
    {
      "cell_type": "code",
      "source": [
        "#model error\n",
        "from sklearn.metrics import mean_absolute_percentage_error\n",
        "mean_absolute_percentage_error(y_test,y_pred)\n"
      ],
      "metadata": {
        "colab": {
          "base_uri": "https://localhost:8080/"
        },
        "id": "4RwrXGgKZCLo",
        "outputId": "c7e4af27-94c3-4ea1-c4e7-8cd14e459dfa"
      },
      "execution_count": null,
      "outputs": [
        {
          "output_type": "execute_result",
          "data": {
            "text/plain": [
              "0.3134440184320867"
            ]
          },
          "metadata": {},
          "execution_count": 60
        }
      ]
    },
    {
      "cell_type": "markdown",
      "source": [
        "Model with 31.34% error and 68.66% accuracy"
      ],
      "metadata": {
        "id": "0uBggy9raElF"
      }
    },
    {
      "cell_type": "code",
      "source": [
        "#Future prediction\n",
        "x.sample()"
      ],
      "metadata": {
        "colab": {
          "base_uri": "https://localhost:8080/",
          "height": 142
        },
        "id": "qFPRgQAyaZPg",
        "outputId": "79237050-6be5-464d-fae0-dc3c16f4d8ac"
      },
      "execution_count": null,
      "outputs": [
        {
          "output_type": "execute_result",
          "data": {
            "text/plain": [
              "     Cement (kg in a m^3 mixture)  Blast Furnace Slag (kg in a m^3 mixture)  \\\n",
              "584                         228.0                                     342.1   \n",
              "\n",
              "     Fly Ash (kg in a m^3 mixture)  Water (kg in a m^3 mixture)  \\\n",
              "584                            0.0                        185.7   \n",
              "\n",
              "     Superplasticizer (kg in a m^3 mixture)  \\\n",
              "584                                     0.0   \n",
              "\n",
              "     Coarse Aggregate (kg in a m^3 mixture)  \\\n",
              "584                                   955.8   \n",
              "\n",
              "     Fine Aggregate (kg in a m^3 mixture)  Age (day)  \n",
              "584                                 674.3          7  "
            ],
            "text/html": [
              "\n",
              "  <div id=\"df-5ded2711-ccd8-4411-b822-24a6508c837f\">\n",
              "    <div class=\"colab-df-container\">\n",
              "      <div>\n",
              "<style scoped>\n",
              "    .dataframe tbody tr th:only-of-type {\n",
              "        vertical-align: middle;\n",
              "    }\n",
              "\n",
              "    .dataframe tbody tr th {\n",
              "        vertical-align: top;\n",
              "    }\n",
              "\n",
              "    .dataframe thead th {\n",
              "        text-align: right;\n",
              "    }\n",
              "</style>\n",
              "<table border=\"1\" class=\"dataframe\">\n",
              "  <thead>\n",
              "    <tr style=\"text-align: right;\">\n",
              "      <th></th>\n",
              "      <th>Cement (kg in a m^3 mixture)</th>\n",
              "      <th>Blast Furnace Slag (kg in a m^3 mixture)</th>\n",
              "      <th>Fly Ash (kg in a m^3 mixture)</th>\n",
              "      <th>Water (kg in a m^3 mixture)</th>\n",
              "      <th>Superplasticizer (kg in a m^3 mixture)</th>\n",
              "      <th>Coarse Aggregate (kg in a m^3 mixture)</th>\n",
              "      <th>Fine Aggregate (kg in a m^3 mixture)</th>\n",
              "      <th>Age (day)</th>\n",
              "    </tr>\n",
              "  </thead>\n",
              "  <tbody>\n",
              "    <tr>\n",
              "      <th>584</th>\n",
              "      <td>228.0</td>\n",
              "      <td>342.1</td>\n",
              "      <td>0.0</td>\n",
              "      <td>185.7</td>\n",
              "      <td>0.0</td>\n",
              "      <td>955.8</td>\n",
              "      <td>674.3</td>\n",
              "      <td>7</td>\n",
              "    </tr>\n",
              "  </tbody>\n",
              "</table>\n",
              "</div>\n",
              "      <button class=\"colab-df-convert\" onclick=\"convertToInteractive('df-5ded2711-ccd8-4411-b822-24a6508c837f')\"\n",
              "              title=\"Convert this dataframe to an interactive table.\"\n",
              "              style=\"display:none;\">\n",
              "        \n",
              "  <svg xmlns=\"http://www.w3.org/2000/svg\" height=\"24px\"viewBox=\"0 0 24 24\"\n",
              "       width=\"24px\">\n",
              "    <path d=\"M0 0h24v24H0V0z\" fill=\"none\"/>\n",
              "    <path d=\"M18.56 5.44l.94 2.06.94-2.06 2.06-.94-2.06-.94-.94-2.06-.94 2.06-2.06.94zm-11 1L8.5 8.5l.94-2.06 2.06-.94-2.06-.94L8.5 2.5l-.94 2.06-2.06.94zm10 10l.94 2.06.94-2.06 2.06-.94-2.06-.94-.94-2.06-.94 2.06-2.06.94z\"/><path d=\"M17.41 7.96l-1.37-1.37c-.4-.4-.92-.59-1.43-.59-.52 0-1.04.2-1.43.59L10.3 9.45l-7.72 7.72c-.78.78-.78 2.05 0 2.83L4 21.41c.39.39.9.59 1.41.59.51 0 1.02-.2 1.41-.59l7.78-7.78 2.81-2.81c.8-.78.8-2.07 0-2.86zM5.41 20L4 18.59l7.72-7.72 1.47 1.35L5.41 20z\"/>\n",
              "  </svg>\n",
              "      </button>\n",
              "      \n",
              "  <style>\n",
              "    .colab-df-container {\n",
              "      display:flex;\n",
              "      flex-wrap:wrap;\n",
              "      gap: 12px;\n",
              "    }\n",
              "\n",
              "    .colab-df-convert {\n",
              "      background-color: #E8F0FE;\n",
              "      border: none;\n",
              "      border-radius: 50%;\n",
              "      cursor: pointer;\n",
              "      display: none;\n",
              "      fill: #1967D2;\n",
              "      height: 32px;\n",
              "      padding: 0 0 0 0;\n",
              "      width: 32px;\n",
              "    }\n",
              "\n",
              "    .colab-df-convert:hover {\n",
              "      background-color: #E2EBFA;\n",
              "      box-shadow: 0px 1px 2px rgba(60, 64, 67, 0.3), 0px 1px 3px 1px rgba(60, 64, 67, 0.15);\n",
              "      fill: #174EA6;\n",
              "    }\n",
              "\n",
              "    [theme=dark] .colab-df-convert {\n",
              "      background-color: #3B4455;\n",
              "      fill: #D2E3FC;\n",
              "    }\n",
              "\n",
              "    [theme=dark] .colab-df-convert:hover {\n",
              "      background-color: #434B5C;\n",
              "      box-shadow: 0px 1px 3px 1px rgba(0, 0, 0, 0.15);\n",
              "      filter: drop-shadow(0px 1px 2px rgba(0, 0, 0, 0.3));\n",
              "      fill: #FFFFFF;\n",
              "    }\n",
              "  </style>\n",
              "\n",
              "      <script>\n",
              "        const buttonEl =\n",
              "          document.querySelector('#df-5ded2711-ccd8-4411-b822-24a6508c837f button.colab-df-convert');\n",
              "        buttonEl.style.display =\n",
              "          google.colab.kernel.accessAllowed ? 'block' : 'none';\n",
              "\n",
              "        async function convertToInteractive(key) {\n",
              "          const element = document.querySelector('#df-5ded2711-ccd8-4411-b822-24a6508c837f');\n",
              "          const dataTable =\n",
              "            await google.colab.kernel.invokeFunction('convertToInteractive',\n",
              "                                                     [key], {});\n",
              "          if (!dataTable) return;\n",
              "\n",
              "          const docLinkHtml = 'Like what you see? Visit the ' +\n",
              "            '<a target=\"_blank\" href=https://colab.research.google.com/notebooks/data_table.ipynb>data table notebook</a>'\n",
              "            + ' to learn more about interactive tables.';\n",
              "          element.innerHTML = '';\n",
              "          dataTable['output_type'] = 'display_data';\n",
              "          await google.colab.output.renderOutput(dataTable, element);\n",
              "          const docLink = document.createElement('div');\n",
              "          docLink.innerHTML = docLinkHtml;\n",
              "          element.appendChild(docLink);\n",
              "        }\n",
              "      </script>\n",
              "    </div>\n",
              "  </div>\n",
              "  "
            ]
          },
          "metadata": {},
          "execution_count": 61
        }
      ]
    },
    {
      "cell_type": "code",
      "source": [
        "# define x_new\n",
        "x_new=x.sample()"
      ],
      "metadata": {
        "id": "wR2MeKoTaA9h"
      },
      "execution_count": null,
      "outputs": []
    },
    {
      "cell_type": "markdown",
      "source": [
        "Future prediction if we are comfortable with 68.88% accuracy "
      ],
      "metadata": {
        "id": "8Ztj3QhubNmS"
      }
    },
    {
      "cell_type": "code",
      "source": [
        "# predict for x_new\n",
        "model.predict(x_new)"
      ],
      "metadata": {
        "colab": {
          "base_uri": "https://localhost:8080/"
        },
        "id": "fv3z08RobIp8",
        "outputId": "ab55b848-be26-45b2-a7e1-60d24415a457"
      },
      "execution_count": null,
      "outputs": [
        {
          "output_type": "execute_result",
          "data": {
            "text/plain": [
              "array([25.23108762])"
            ]
          },
          "metadata": {},
          "execution_count": 65
        }
      ]
    },
    {
      "cell_type": "markdown",
      "source": [],
      "metadata": {
        "id": "hspu-5hsaDTO"
      }
    },
    {
      "cell_type": "markdown",
      "source": [],
      "metadata": {
        "id": "UE4uRTC0ZiCJ"
      }
    },
    {
      "cell_type": "markdown",
      "source": [],
      "metadata": {
        "id": "HmxUvXanZ_af"
      }
    },
    {
      "cell_type": "markdown",
      "source": [],
      "metadata": {
        "id": "qMmaZNl2GkG8"
      }
    },
    {
      "cell_type": "code",
      "source": [],
      "metadata": {
        "id": "Trmv1pSJZAge"
      },
      "execution_count": null,
      "outputs": []
    },
    {
      "cell_type": "markdown",
      "source": [],
      "metadata": {
        "id": "gFRBTxHyE2Jd"
      }
    },
    {
      "cell_type": "markdown",
      "source": [],
      "metadata": {
        "id": "45Cd1KfqE1VO"
      }
    },
    {
      "cell_type": "markdown",
      "source": [],
      "metadata": {
        "id": "1-F5KEtMEP0V"
      }
    },
    {
      "cell_type": "code",
      "execution_count": null,
      "metadata": {
        "id": "oEZBvlGXEHsj"
      },
      "outputs": [],
      "source": []
    },
    {
      "cell_type": "markdown",
      "source": [],
      "metadata": {
        "id": "jahLUkMlENyR"
      }
    }
  ]
}